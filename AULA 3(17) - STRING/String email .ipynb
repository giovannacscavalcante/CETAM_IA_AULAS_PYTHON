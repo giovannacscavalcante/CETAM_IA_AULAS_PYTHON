{
 "cells": [
  {
   "cell_type": "markdown",
   "metadata": {
    "colab_type": "text",
    "id": "view-in-github"
   },
   "source": [
    "<a href=\"https://colab.research.google.com/github/hiramaralIA/CETAM_IA_AULAS_PYTHON/blob/main/String_Indice_Negativo_e_Peda%C3%A7o_de_Texto.ipynb\" target=\"_parent\"><img src=\"https://colab.research.google.com/assets/colab-badge.svg\" alt=\"Open In Colab\"/></a>"
   ]
  },
  {
   "cell_type": "raw",
   "metadata": {
    "id": "Jq0Hz72_5MCa"
   },
   "source": [
    "Texto: lira@gmail.com\n",
    "\n",
    "-14 -13 -12 -11 -10 -9 -8 -7 -6 -5 -4 -3 -2 -1\n",
    "  i   r   a   m   @  g  m  a  i  l  .  c  o  m\n",
    "  0   1   2   3   4  5  6  7  8  9 10 11 12 13\n",
    "  \n",
    "Para pegar um texto de trás para frente: texto[índice] -> onde índice é negativo\n",
    "Para pegar o pedaço de um texto use : (dois pontos). texto[:indice] ou texto[indice:] ou ainda texto[indice:indice]"
   ]
  },
  {
   "cell_type": "code",
   "execution_count": 1,
   "metadata": {
    "id": "wLO4Jibg5MCb"
   },
   "outputs": [
    {
     "name": "stdout",
     "output_type": "stream",
     "text": [
      "iram@gmail.co\n",
      "iram@gm\n",
      "m@gm\n"
     ]
    }
   ],
   "source": [
    "email = 'iram@gmail.com'\n",
    "nome = 'Iram Maio Silva'\n",
    "\n",
    "print(email[:-1])\n",
    "\n",
    "print(email[0:7])\n",
    "\n",
    "print(email[3:7])"
   ]
  },
  {
   "cell_type": "markdown",
   "metadata": {
    "id": "6bXNjO0P5MCd"
   },
   "source": [
    "Exercícios para Fixação:\n",
    "Basta completar os prints de forma correta"
   ]
  },
  {
   "cell_type": "code",
   "execution_count": 6,
   "metadata": {
    "id": "hzRHuqAY5MCf"
   },
   "outputs": [
    {
     "ename": "SyntaxError",
     "evalue": "invalid syntax (Temp/ipykernel_17332/1768572450.py, line 2)",
     "output_type": "error",
     "traceback": [
      "\u001b[1;36m  File \u001b[1;32m\"C:\\Users\\ALUNO0~1.IBC\\AppData\\Local\\Temp/ipykernel_17332/1768572450.py\"\u001b[1;36m, line \u001b[1;32m2\u001b[0m\n\u001b[1;33m    print('Primeiro Caractere ' + (email[3]))\u001b[0m\n\u001b[1;37m    ^\u001b[0m\n\u001b[1;31mSyntaxError\u001b[0m\u001b[1;31m:\u001b[0m invalid syntax\n"
     ]
    }
   ],
   "source": [
    "print('Tamanho do e-mail ' + str(len(email))\n",
    "print('Primeiro Caractere ' + (email[1]))\n",
    "print('Último Caractere ' + (email[13]))\n",
    "print('Servidor do email ' + (email [4:13]))"
   ]
  },
  {
   "cell_type": "code",
   "execution_count": null,
   "metadata": {},
   "outputs": [],
   "source": []
  }
 ],
 "metadata": {
  "colab": {
   "include_colab_link": true,
   "name": "String Indice Negativo e Pedaço de Texto.ipynb",
   "provenance": []
  },
  "kernelspec": {
   "display_name": "Python 3 (ipykernel)",
   "language": "python",
   "name": "python3"
  },
  "language_info": {
   "codemirror_mode": {
    "name": "ipython",
    "version": 3
   },
   "file_extension": ".py",
   "mimetype": "text/x-python",
   "name": "python",
   "nbconvert_exporter": "python",
   "pygments_lexer": "ipython3",
   "version": "3.9.7"
  }
 },
 "nbformat": 4,
 "nbformat_minor": 1
}
